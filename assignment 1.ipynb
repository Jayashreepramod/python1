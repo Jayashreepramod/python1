{
 "cells": [
  {
   "cell_type": "code",
   "execution_count": null,
   "id": "6995719c",
   "metadata": {},
   "outputs": [],
   "source": [
    "question no 1"
   ]
  },
  {
   "cell_type": "code",
   "execution_count": 7,
   "id": "bc0971f5",
   "metadata": {},
   "outputs": [
    {
     "name": "stdout",
     "output_type": "stream",
     "text": [
      "6\n"
     ]
    }
   ],
   "source": [
    "\n",
    "a=1,2,3,4,5,6\n",
    "print(a[-1])\n"
   ]
  },
  {
   "cell_type": "code",
   "execution_count": 3,
   "id": "7151c019",
   "metadata": {},
   "outputs": [
    {
     "name": "stdout",
     "output_type": "stream",
     "text": [
      "5\n"
     ]
    }
   ],
   "source": [
    "print(a[4])"
   ]
  },
  {
   "cell_type": "code",
   "execution_count": null,
   "id": "56ba4801",
   "metadata": {},
   "outputs": [],
   "source": [
    "question 2"
   ]
  },
  {
   "cell_type": "code",
   "execution_count": 13,
   "id": "96e63979",
   "metadata": {},
   "outputs": [
    {
     "data": {
      "text/plain": [
       "['hello', 'world', 'is', 'first', 'code']"
      ]
     },
     "execution_count": 13,
     "metadata": {},
     "output_type": "execute_result"
    }
   ],
   "source": [
    "s=\"hello world is first code\"\n",
    "s.split()"
   ]
  },
  {
   "cell_type": "code",
   "execution_count": null,
   "id": "7f507fe4",
   "metadata": {},
   "outputs": [],
   "source": [
    "question 3\n",
    "slicing operators are used to extract the characters from a given set of data"
   ]
  },
  {
   "cell_type": "code",
   "execution_count": 5,
   "id": "9285714f",
   "metadata": {},
   "outputs": [
    {
     "name": "stdout",
     "output_type": "stream",
     "text": [
      "[1, 5]\n"
     ]
    }
   ],
   "source": [
    "a=[1,2,5,16,23,34,45,52,65,71]\n",
    "print(a[0:4:2])"
   ]
  },
  {
   "cell_type": "code",
   "execution_count": null,
   "id": "a8b9773e",
   "metadata": {},
   "outputs": [],
   "source": [
    "question 4"
   ]
  },
  {
   "cell_type": "code",
   "execution_count": 2,
   "id": "c4b130b9",
   "metadata": {},
   "outputs": [
    {
     "name": "stdout",
     "output_type": "stream",
     "text": [
      "[1, 2, 3, 4, 5, 2] [1, 2, 3, 4, 5, 2]\n"
     ]
    }
   ],
   "source": [
    "a=[1,2,3,4,5,2]\n",
    "b=a\n",
    "print (b,a)"
   ]
  },
  {
   "cell_type": "code",
   "execution_count": 16,
   "id": "f5a7fe36",
   "metadata": {},
   "outputs": [
    {
     "name": "stdout",
     "output_type": "stream",
     "text": [
      "[1, 2, 3, 4, 5, 2]\n"
     ]
    }
   ],
   "source": [
    "a=[1,2,3,4,5,2]\n",
    "b=a.copy()\n",
    "print(b)"
   ]
  },
  {
   "cell_type": "code",
   "execution_count": null,
   "id": "e363dc31",
   "metadata": {},
   "outputs": [],
   "source": [
    "question 5\n",
    "[ : : -1] is used to reverse the order of the characters,for example"
   ]
  },
  {
   "cell_type": "code",
   "execution_count": 17,
   "id": "05dfaf7c",
   "metadata": {},
   "outputs": [
    {
     "name": "stdout",
     "output_type": "stream",
     "text": [
      "gninrom doog\n"
     ]
    }
   ],
   "source": [
    "a=('good morning')\n",
    "print (a[ : :-1])"
   ]
  },
  {
   "cell_type": "code",
   "execution_count": null,
   "id": "b489b07b",
   "metadata": {},
   "outputs": [],
   "source": []
  }
 ],
 "metadata": {
  "kernelspec": {
   "display_name": "Python 3 (ipykernel)",
   "language": "python",
   "name": "python3"
  },
  "language_info": {
   "codemirror_mode": {
    "name": "ipython",
    "version": 3
   },
   "file_extension": ".py",
   "mimetype": "text/x-python",
   "name": "python",
   "nbconvert_exporter": "python",
   "pygments_lexer": "ipython3",
   "version": "3.9.12"
  },
  "toc": {
   "base_numbering": 1,
   "nav_menu": {},
   "number_sections": true,
   "sideBar": true,
   "skip_h1_title": false,
   "title_cell": "Table of Contents",
   "title_sidebar": "Contents",
   "toc_cell": false,
   "toc_position": {},
   "toc_section_display": true,
   "toc_window_display": false
  }
 },
 "nbformat": 4,
 "nbformat_minor": 5
}
